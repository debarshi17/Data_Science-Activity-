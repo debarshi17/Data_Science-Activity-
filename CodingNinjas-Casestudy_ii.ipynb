{
 "cells": [
  {
   "cell_type": "code",
   "execution_count": null,
   "id": "050f43b3",
   "metadata": {},
   "outputs": [],
   "source": []
  },
  {
   "cell_type": "markdown",
   "id": "e1e05ead",
   "metadata": {},
   "source": [
    "1.Your Friend has developed the Product and he wants to establish the product startup and he is searching for a perfect location where getting the investment has a high chance. But due to its financial restriction, he can choose only between three locations -  Bangalore, Mumbai, and NCR. As a friend, you want to help your friend deciding the location. NCR include Gurgaon, Noida and New Delhi. Find the location where the most number of funding is done. That means, find the location where startups has received funding maximum number of times. Plot the bar graph between location and number of funding. Take city name \"Delhi\" as \"New Delhi\". Check the case-sensitiveness of cities also. That means, at some place instead of \"Bangalore\", \"bangalore\" is given. Take city name as \"Bangalore\". For few startups multiple locations are given, one Indian and one Foreign. Consider the startup if any one of the city lies in given locations.\n"
   ]
  },
  {
   "cell_type": "code",
   "execution_count": 68,
   "id": "3ba3c41e",
   "metadata": {},
   "outputs": [
    {
     "data": {
      "image/png": "[encoded data removed]",
      "text/plain": [
       "<Figure size 432x288 with 1 Axes>"
      ]
     },
     "metadata": {
      "needs_background": "light"
     },
     "output_type": "display_data"
    }
   ],
   "source": [
    "import pandas as pd\n",
    "import numpy as np\n",
    "import matplotlib.pyplot as plt\n",
    "df_start = pd.read_csv(\"startup_funding.csv\",encoding='utf-8')\n",
    "df_start['CityLocation'].dropna(inplace=True)\n",
    "df_start['AmountInUSD'].dropna(inplace=True)\n",
    "def separateCity(city):\n",
    "    return str(city).split('/')[0].strip()\n",
    "df_start['CityLocation']=df_start['CityLocation'].apply(separateCity)\n",
    "df_start['CityLocation'].replace(\"Delhi\",\"New Delhi\",inplace=True)\n",
    "df_start['CityLocation'].replace(\"bangalore\",\"Bangalore\",inplace=True)\n",
    "df_start['CityLocation'].value_counts()\n",
    "cities=df_start['CityLocation'].value_counts().index[0:2]\n",
    "num=df_start['CityLocation'].value_counts().values[0:2]\n",
    "\n",
    "cities=list(cities)\n",
    "cities.append('NCR')\n",
    "cities\n",
    "df_start['CityLocation'].value_counts()\n",
    "num=list(num)\n",
    "num.append(389+241+79)##adding the counts of delhi,gurgaon,noida manually \n",
    "plt.bar(cities,num)\n",
    "plt.show()"
   ]
  },
  {
   "cell_type": "markdown",
   "id": "3bfac028",
   "metadata": {},
   "source": [
    "2.Even after trying for so many times, your friend’s startup could not find the investment. So you decided to take this matter in your hand and try to find the list of investors who probably can invest in your friend’s startup. Your list will increase the chance of your friend startup getting some initial investment by contacting these investors. Find the top 5 investors who have invested maximum number of times (consider repeat investments in one company also). In a startup, multiple investors might have invested. So consider each investor for that startup. Ignore undisclosed investors."
   ]
  },
  {
   "cell_type": "code",
   "execution_count": 30,
   "id": "c5ba6def",
   "metadata": {},
   "outputs": [
    {
     "name": "stdout",
     "output_type": "stream",
     "text": [
      "Sequoia Capital 64\n",
      "Accel Partners 53\n",
      "Kalaari Capital 44\n",
      "SAIF Partners 41\n",
      "Indian Angel Network 40\n"
     ]
    }
   ],
   "source": [
    "import pandas as pd\n",
    "import numpy as np\n",
    "df_start = pd.read_csv(\"startup_funding.csv\",encoding='utf-8')\n",
    "df_start['InvestorsName'].dropna(inplace=True)\n",
    "\n",
    "\n",
    "investor={}\n",
    "for i in df_start.InvestorsName.values:\n",
    "    temp1=str(i).split(\",\")\n",
    "    for j in temp1:\n",
    "        temp2=j.strip()\n",
    "        investor[temp2]=investor.get(temp2,0)+1\n",
    "maxn=0\n",
    "c=''\n",
    "for i in investor:\n",
    "    if(investor[i]>maxn):\n",
    "        maxn=investor[i]\n",
    "        c=i\n",
    "sorted_dict = dict( sorted(investor.items(),\n",
    "                           key=lambda item: item[1],\n",
    "                           reverse=True))\n",
    "c=0\n",
    "for i in sorted_dict:\n",
    "    if(c==5):\n",
    "        break\n",
    "    else:\n",
    "        print(i,sorted_dict[i])\n",
    "        c+=1"
   ]
  },
  {
   "cell_type": "markdown",
   "id": "04e22591",
   "metadata": {},
   "source": [
    "3.After re-analysing the dataset you found out that some investors have invested in the same startup at different number of funding rounds. So before finalising the previous list, you want to improvise it by finding the top 5 investors who have invested in different number of startups. This list will be more helpful than your previous list in finding the investment for your friend startup. Find the top 5 investors who have invested maximum number of times in different companies. That means, if one investor has invested multiple times in one startup, count one for that company. There are many errors in startup names. Ignore correcting all, just handle the important ones - Ola, Flipkart, Oyo and Paytm."
   ]
  },
  {
   "cell_type": "code",
   "execution_count": 55,
   "id": "3c2a0e60",
   "metadata": {},
   "outputs": [
    {
     "name": "stdout",
     "output_type": "stream",
     "text": [
      "Sequoia Capital 52\n",
      "Accel Partners 48\n",
      "Kalaari Capital 42\n",
      "Indian Angel Network 41\n",
      "Blume Ventures 37\n"
     ]
    }
   ],
   "source": [
    "import pandas as pd\n",
    "import numpy as np\n",
    "df_start = pd.read_csv(\"startup_funding.csv\",encoding='utf-8')\n",
    "df_start['InvestorsName'].dropna(inplace=True)\n",
    "\n",
    "investor={}\n",
    "for i in range(df_start.InvestorsName.shape[0]):\n",
    "    temp1=str(df_start['InvestorsName'][i]).split(\",\")\n",
    "    for j in temp1:\n",
    "        temp2=j.strip()\n",
    "        investor[temp2]=investor.get(temp2,'')+','+df_start['StartupName'][i]\n",
    "name=list(investor.keys())\n",
    "count=list(investor.values())\n",
    "d={}\n",
    "for i in range(len(name)):\n",
    "    temp=count[i].split(',')\n",
    "    a=set()\n",
    "    for k in range(len(temp)):\n",
    "        a.add(temp[k])\n",
    "        \n",
    "    d[i]=d.get(i,len(a))\n",
    "final_dict={}\n",
    "for i in range(len(name)):\n",
    "    final_dict[name[i]]=final_dict.get(name[i],d[i])\n",
    "\n",
    "sorted_dict = dict( sorted(final_dict.items(),\n",
    "                           key=lambda item: item[1],\n",
    "                           reverse=True))\n",
    "c=0\n",
    "del sorted_dict['']\n",
    "for i in sorted_dict:\n",
    "    if(c==5):\n",
    "        break\n",
    "    else:\n",
    "        print(i,sorted_dict[i])\n",
    "        c+=1\n"
   ]
  },
  {
   "cell_type": "markdown",
   "id": "cbccba8e",
   "metadata": {},
   "source": [
    "4.Even after putting so much effort in finding the probable investors, it didn't turn out to be helpful for your friend. So you went to your investor friend to understand the situation better and your investor friend explained to you about the different Investment Types and their features. This new information will be helpful in finding the right investor. Since your friend startup is at an early stage startup, the best-suited investment type would be - Seed Funding and Crowdfunding. Find the top 5 investors who have invested in a different number of startups and their investment type is Crowdfunding or Seed Funding. Correct spelling of investment types are - \"Private Equity\", \"Seed Funding\", \"Debt Funding\", and \"Crowd Funding\". Keep an eye for any spelling mistake. You can find this by printing unique values from this column. There are many errors in startup names. Ignore correcting all, just handle the important ones - Ola, Flipkart, Oyo and Paytm."
   ]
  },
  {
   "cell_type": "code",
   "execution_count": 65,
   "id": "1d0296c4",
   "metadata": {},
   "outputs": [
    {
     "name": "stdout",
     "output_type": "stream",
     "text": [
      "Indian Angel Network 34\n",
      "Rajan Anandan 24\n",
      "LetsVenture 17\n",
      "Anupam Mittal 17\n",
      "Kunal Shah 15\n"
     ]
    }
   ],
   "source": [
    "import pandas as pd\n",
    "import numpy as np\n",
    "df_start = pd.read_csv(\"startup_funding.csv\",encoding='utf-8')\n",
    "df_start['InvestmentType'].replace(\"SeedFunding\",\"Seed Funding\",inplace=True)\n",
    "df_start['InvestmentType'].replace(\"PrivateEquity\",\"Private Equity\",inplace=True)\n",
    "df_start['InvestmentType'].replace(\"Crowd funding\",\"Crowd Funding\",inplace=True)\n",
    "df_start['InvestorsName'].dropna(inplace=True)\n",
    "df_start['StartupName'].replace('Ola Cabs','Ola',inplace=True)\n",
    "df_start['StartupName'].replace('Olacabs','Ola',inplace=True)\n",
    "df_start['StartupName'].replace('Flipkart.com','Flipkart',inplace=True)\n",
    "df_start['StartupName'].replace('Oyorooms','Oyo',inplace=True)\n",
    "df_start['StartupName'].replace('Oyo Rooms','Oyo',inplace=True)\n",
    "df_start['StartupName'].replace('Paytm Marketplace','Paytm',inplace=True)\n",
    "df_start['StartupName'].replace('OyoRooms','Oyo',inplace=True)\n",
    "df_start['StartupName'].replace('OYO Rooms','Oyo',inplace=True)\n",
    "\n",
    "investor={}\n",
    "for i in range(df_start.InvestorsName.shape[0]):\n",
    "    if((df_start['InvestmentType'][i]=='Seed Funding') or (df_start['InvestmentType'][i]=='Crowd Funding')):\n",
    "        temp1=str(df_start['InvestorsName'][i]).split(\",\")\n",
    "        for j in temp1:\n",
    "            temp2=j.strip()\n",
    "            investor[temp2]=investor.get(temp2,'')+','+df_start['StartupName'][i]\n",
    "name=list(investor.keys())\n",
    "count=list(investor.values())\n",
    "d={}\n",
    "for i in range(len(name)):\n",
    "    temp=count[i].split(',')\n",
    "    a=set()\n",
    "    for k in range(len(temp)):\n",
    "        a.add(temp[k])\n",
    "        \n",
    "    d[i]=d.get(i,len(a))\n",
    "final_dict={}\n",
    "for i in range(len(name)):\n",
    "    final_dict[name[i]]=final_dict.get(name[i],d[i])\n",
    "\n",
    "sorted_dict = dict( sorted(final_dict.items(),\n",
    "                           key=lambda item: item[1],\n",
    "                           reverse=True))\n",
    "c=0\n",
    "del sorted_dict['']\n",
    "del sorted_dict['Undisclosed Investors']\n",
    "del sorted_dict['Undisclosed investors']\n",
    "for i in sorted_dict:\n",
    "    if(c==5):\n",
    "        break\n",
    "    else:\n",
    "        print(i,sorted_dict[i])\n",
    "        c+=1\n"
   ]
  },
  {
   "cell_type": "markdown",
   "id": "caeec8aa",
   "metadata": {},
   "source": [
    "5.Due to your immense help, your friend startup successfully got seed funding and it is on the operational mode. Now your friend wants to expand his startup and he is looking for new investors for his startup. Now you again come as a saviour to help your friend and want to create a list of probable new new investors. Before moving forward you remember your investor friend advice that finding the investors by analysing the investment type. Since your friend startup is not in early phase it is in growth stage so the best-suited investment type is Private Equity. Find the top 5 investors who have invested in a different number of startups and their investment type is Private Equity. Correct spelling of investment types are - \"Private Equity\", \"Seed Funding\", \"Debt Funding\", and \"Crowd Funding\". Keep an eye for any spelling mistake. You can find this by printing unique values from this column.There are many errors in startup names. Ignore correcting all, just handle the important ones - Ola, Flipkart, Oyo and Paytm."
   ]
  },
  {
   "cell_type": "code",
   "execution_count": 66,
   "id": "dd76303e",
   "metadata": {},
   "outputs": [
    {
     "name": "stdout",
     "output_type": "stream",
     "text": [
      "Sequoia Capital 46\n",
      "Accel Partners 44\n",
      "Kalaari Capital 36\n",
      "Blume Ventures 28\n",
      "SAIF Partners 25\n"
     ]
    }
   ],
   "source": [
    "import pandas as pd\n",
    "import numpy as np\n",
    "df_start = pd.read_csv(\"startup_funding.csv\",encoding='utf-8')\n",
    "df_start['InvestmentType'].replace(\"SeedFunding\",\"Seed Funding\",inplace=True)\n",
    "df_start['InvestmentType'].replace(\"PrivateEquity\",\"Private Equity\",inplace=True)\n",
    "df_start['InvestmentType'].replace(\"Crowd funding\",\"Crowd Funding\",inplace=True)\n",
    "df_start['InvestorsName'].dropna(inplace=True)\n",
    "df_start['StartupName'].replace('Ola Cabs','Ola',inplace=True)\n",
    "df_start['StartupName'].replace('Olacabs','Ola',inplace=True)\n",
    "df_start['StartupName'].replace('Flipkart.com','Flipkart',inplace=True)\n",
    "df_start['StartupName'].replace('Oyorooms','Oyo',inplace=True)\n",
    "df_start['StartupName'].replace('Oyo Rooms','Oyo',inplace=True)\n",
    "df_start['StartupName'].replace('Paytm Marketplace','Paytm',inplace=True)\n",
    "df_start['StartupName'].replace('OyoRooms','Oyo',inplace=True)\n",
    "df_start['StartupName'].replace('OYO Rooms','Oyo',inplace=True)\n",
    "investor={}\n",
    "for i in range(df_start.InvestorsName.shape[0]):\n",
    "    if((df_start['InvestmentType'][i]=='Private Equity')):\n",
    "        temp1=str(df_start['InvestorsName'][i]).split(\",\")\n",
    "        for j in temp1:\n",
    "            temp2=j.strip()\n",
    "            investor[temp2]=investor.get(temp2,'')+','+df_start['StartupName'][i]\n",
    "name=list(investor.keys())\n",
    "count=list(investor.values())\n",
    "d={}\n",
    "for i in range(len(name)):\n",
    "    temp=count[i].split(',')\n",
    "    a=set()\n",
    "    for k in range(len(temp)):\n",
    "        a.add(temp[k])\n",
    "        \n",
    "    d[i]=d.get(i,len(a))\n",
    "final_dict={}\n",
    "for i in range(len(name)):\n",
    "    final_dict[name[i]]=final_dict.get(name[i],d[i])\n",
    "\n",
    "sorted_dict = dict( sorted(final_dict.items(),\n",
    "                           key=lambda item: item[1],\n",
    "                           reverse=True))\n",
    "c=0\n",
    "del sorted_dict['']\n",
    "del sorted_dict['Undisclosed Investors']\n",
    "del sorted_dict['Undisclosed investors']\n",
    "for i in sorted_dict:\n",
    "    if(c==5):\n",
    "        break\n",
    "    else:\n",
    "        print(i,sorted_dict[i])\n",
    "        c+=1\n"
   ]
  }
 ],
 "metadata": {
  "kernelspec": {
   "display_name": "Python 3",
   "language": "python",
   "name": "python3"
  },
  "language_info": {
   "codemirror_mode": {
    "name": "ipython",
    "version": 3
   },
   "file_extension": ".py",
   "mimetype": "text/x-python",
   "name": "python",
   "nbconvert_exporter": "python",
   "pygments_lexer": "ipython3",
   "version": "3.8.8"
  }
 },
 "nbformat": 4,
 "nbformat_minor": 5
}
