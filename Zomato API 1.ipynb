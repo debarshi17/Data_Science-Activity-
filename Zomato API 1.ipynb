{
 "cells": [
  {
   "cell_type": "markdown",
   "id": "2adfc548",
   "metadata": {},
   "source": [
    "###Zomato cuisine problem details\n",
    "Send Feedback\n",
    "Mexican cuisine began about 9,000 years ago, when agricultural communities such as the Maya formed, domesticating maize, creating the standard process of corn nixtamalization, and establishing their foodways.\n",
    "You are a huge fan of ‘Mexican’ cuisine. Now using the Zomato API you want to analyse the best restaurant serving the Mexican Cuisine, their locations, and cost for two, etc.\n",
    "Fetch the cuisine_id of ‘Mexican’ cuisine using Zomato API."
   ]
  },
  {
   "cell_type": "code",
   "execution_count": 184,
   "id": "1648e816",
   "metadata": {},
   "outputs": [
    {
     "name": "stdout",
     "output_type": "stream",
     "text": [
      "3\n"
     ]
    }
   ],
   "source": [
    "import requests\n",
    "import json\n",
    "h={'Accept':'application/json','user-key':'627c28c07ad221c65491bbffea6f5d54'}\n",
    "data={'user-key':'627c28c07ad221c65491bbffea6f5d54','city_id':'5'}\n",
    "response=requests.get('https://developers.zomato.com/api/v2.1/cuisines',params=data,headers=h)\n",
    "py=response.json()\n",
    "for i in py['cuisines']:\n",
    "    if(i['cuisine']['cuisine_name']=='Asian'):\n",
    "        print(i['cuisine']['cuisine_id'])\n",
    "\n",
    "\n"
   ]
  },
  {
   "cell_type": "markdown",
   "id": "df0a212c",
   "metadata": {},
   "source": [
    "Fetch the entityid and entitytype of place Connaught Place.\n"
   ]
  },
  {
   "cell_type": "code",
   "execution_count": 185,
   "id": "b5a835ac",
   "metadata": {},
   "outputs": [
    {
     "name": "stdout",
     "output_type": "stream",
     "text": [
      "subzone 104\n"
     ]
    }
   ],
   "source": [
    "import requests\n",
    "user_key='3754f0440b3026cde542ed69af9f499a' \n",
    "basic_api='https://developers.zomato.com/api/v2.1'\n",
    "header={\"User-agent\": \"curl/7.43.0\",'Accept': 'application/json','user-key':user_key} \n",
    "params={'query':'Connaught Place'} \n",
    "response=requests.get(basic_api+'/locations',headers=header,params=params) \n",
    "py=response.json()\n",
    "for i in py['location_suggestions']:\n",
    "    print(i['entity_type'],i['entity_id'])\n",
    "\n"
   ]
  },
  {
   "cell_type": "markdown",
   "id": "9a2a07ac",
   "metadata": {},
   "source": [
    "Fetch the top 10 best-rated restaurant serving ‘Mexican’ cuisine present in Connaught Place."
   ]
  },
  {
   "cell_type": "code",
   "execution_count": 186,
   "id": "e95613e9",
   "metadata": {},
   "outputs": [
    {
     "name": "stdout",
     "output_type": "stream",
     "text": [
      "Station Bar 4.5 18851371\n",
      "Master Of Malts 4.4 18391149\n",
      "Chili's Grill & Bar 4.4 18537536\n",
      "Tamasha 4.3 18238278\n",
      "Local 4.3 18382360\n",
      "The Junkyard Cafe 4.3 313256\n",
      "Ministry Of Beer 4.3 18418277\n",
      "The Darzi Bar & Kitchen 4.3 18423151\n",
      "Teddy Boy 4.3 18281985\n",
      "Lord Of The Drinks 4.3 312603\n"
     ]
    }
   ],
   "source": [
    "import requests\n",
    "import json\n",
    "user_key='3754f0440b3026cde542ed69af9f499a' \n",
    "basic_api='https://developers.zomato.com/api/v2.1'\n",
    "header={\"User-agent\": \"curl/7.43.0\",'Accept': 'application/json','user-key':user_key} \n",
    "params={'entity_id':104,'entity_type':'subzone','count':10,'cuisines':'73','sort':'rating','order':'desc'} \n",
    "param={'user-key':'3754f0440b3026cde542ed69af9f499a'}\n",
    "response=requests.get(basic_api+'/search',headers=header,params=params) \n",
    "py=response.json()\n",
    "py['restaurants']\n",
    "for i in py['restaurants']:\n",
    "    print(i['restaurant']['name'],i['restaurant']['user_rating']['aggregate_rating'],i['restaurant']['R']['res_id'])\n",
    "\n",
    "\n"
   ]
  },
  {
   "cell_type": "markdown",
   "id": "10bec704",
   "metadata": {},
   "source": [
    "Fetch the category id of category type ‘Cafes’ using Zomato API."
   ]
  },
  {
   "cell_type": "code",
   "execution_count": 187,
   "id": "e368b2b3",
   "metadata": {},
   "outputs": [
    {
     "name": "stdout",
     "output_type": "stream",
     "text": [
      "6\n"
     ]
    }
   ],
   "source": [
    "import requests\n",
    "import json\n",
    "user_key='3754f0440b3026cde542ed69af9f499a' \n",
    "basic_api='https://developers.zomato.com/api/v2.1'\n",
    "header={\"User-agent\": \"curl/7.43.0\",'Accept': 'application/json','user-key':user_key} \n",
    "params={'entity_id':104,'entity_type':'subzone','cuisine':3} \n",
    "param={'user-key':'3754f0440b3026cde542ed69af9f499a'}\n",
    "response=requests.get(basic_api+'/categories',headers=header,params=param) \n",
    "py=response.json()\n",
    "for i in py['categories']:\n",
    "    if(i['categories']['name']=='Cafes'):\n",
    "        print(i['categories']['id'])\n"
   ]
  },
  {
   "cell_type": "markdown",
   "id": "d9cbd33a",
   "metadata": {},
   "source": [
    "Fetch the best-rated restaurant for ‘Mexican’ cuisine with category type ‘ Cafes’ present in Connaught Place using Zomato API."
   ]
  },
  {
   "cell_type": "code",
   "execution_count": 188,
   "id": "7653173e",
   "metadata": {},
   "outputs": [
    {
     "name": "stdout",
     "output_type": "stream",
     "text": [
      "Xero Degrees 4.3 18729557\n",
      "Chaayos - Meri Wali Chai 4.2 18237315\n",
      "The Art House Restaurant 3.9 18863766\n",
      "Cafe Coffee Day - The Square 3.6 303034\n"
     ]
    }
   ],
   "source": [
    "\n",
    "import requests\n",
    "import json\n",
    "user_key='3754f0440b3026cde542ed69af9f499a' \n",
    "basic_api='https://developers.zomato.com/api/v2.1'\n",
    "header={\"User-agent\": \"curl/7.43.0\",'Accept': 'application/json','user-key':user_key} \n",
    "params={'entity_id':104,'entity_type':'subzone','count':10,'cuisines':'73','category':'6','sort':'rating','order':'desc'} \n",
    "param={'user-key':'3754f0440b3026cde542ed69af9f499a'}\n",
    "response=requests.get(basic_api+'/search',headers=header,params=params) \n",
    "py=response.json()\n",
    "py['restaurants']\n",
    "for i in py['restaurants']:\n",
    "    print(i['restaurant']['name'],i['restaurant']['user_rating']['aggregate_rating'],i['restaurant']['R']['res_id'])\n",
    "\n",
    "\n",
    "\n"
   ]
  },
  {
   "cell_type": "markdown",
   "id": "18138905",
   "metadata": {},
   "source": [
    "Fetch the latest review of the best-rated restaurant for ‘Mexican’ cuisine with Category type ‘Cafes’ present in Connaught Place using Zomato API."
   ]
  },
  {
   "cell_type": "code",
   "execution_count": 189,
   "id": "673b85ef",
   "metadata": {},
   "outputs": [
    {
     "name": "stdout",
     "output_type": "stream",
     "text": [
      "Radhika 1 the pasta and sandwich is a waste of money. the pasta I ordered was mix sauce and I received red sauce pasta instead. I want a refund for the pasta. it's not what I ordered\n",
      "Sakshi Khatter 5 Love love this place. In budget, good food.  Pasta can be improved.  Otherwise their fries are dam good.\n",
      "Vinay Anand 5 Best cheese french fries😋 Fully loaded Presentation is so good 🌹🌹 Delicious 🤤 Tasty 😁 Must try once 🤩\n",
      "Purvi Sehgal 5 Trying peri peri fries baked nachos both are very good and cheese garlic bread its amazing love their food ambience preety lights vibes highly recommended to go their place enjoy food service is very good\n",
      "INDIAN TRAVELLER FOODIE 5 Trying xero degree with their peri peri fries, freak shake and baked nachos  Peri peri fries are masala fries with topped with cheese sauce and thousand island sauce  Nachos are baked with mozzarella cheese and salsa even shake is fully loaded love it.\n"
     ]
    }
   ],
   "source": [
    "import requests\n",
    "import json\n",
    "user_key='3754f0440b3026cde542ed69af9f499a' \n",
    "basic_api='https://developers.zomato.com/api/v2.1'\n",
    "header={\"User-agent\": \"curl/7.43.0\",'Accept': 'application/json','user-key':user_key} \n",
    "params={'entity_id':104,'entity_type':'subzone','count':1,'cuisines':'73','category':'6','sort':'rating','order':'desc'} \n",
    "param={'user-key':'3754f0440b3026cde542ed69af9f499a','res_id':18729557}\n",
    "response=requests.get(basic_api+'/reviews',headers=header,params=param) \n",
    "py=response.json()\n",
    "for i in py['user_reviews']:\n",
    "    print(i['review']['user']['name'],i['review']['rating'],i['review']['review_text'])\n"
   ]
  },
  {
   "cell_type": "markdown",
   "id": "6a3ad87e",
   "metadata": {},
   "source": [
    "Problem 2\n",
    "\"Pa Pa Ya\" is a modern Asian bistro & tapas bar from the House of Massive Restaurants and best described as a chic, modern and radical reinterpretation of Asian cuisine.\n",
    "You have heard from your friends that restaurant \"Pa Pa Ya\" in Delhi is quite good. So now you want to extract the information related to \"Pa Pa Ya\" using Zomato API.\n",
    "There is a list of questions related to the restaurant given in the next section.\n",
    "Fetch the details of \"Pa Pa Ya\" restaurant (ID: 18429148) using Zomato API.\n"
   ]
  },
  {
   "cell_type": "code",
   "execution_count": 190,
   "id": "ff56ec8d",
   "metadata": {},
   "outputs": [
    {
     "name": "stdout",
     "output_type": "stream",
     "text": [
      "4.6\n",
      "2500\n",
      "Asian, Chinese, Thai, Japanese, Sushi, Malaysian, Momos, Beverages\n",
      "A-3, Select Citywalk, District Centre, Saket, New Delhi\n"
     ]
    }
   ],
   "source": [
    "import requests\n",
    "import json\n",
    "user_key='3754f0440b3026cde542ed69af9f499a' \n",
    "basic_api='https://developers.zomato.com/api/v2.1'\n",
    "header={\"User-agent\": \"curl/7.43.0\",'Accept': 'application/json','user-key':user_key} \n",
    "params={'entity_id':104,'entity_type':'subzone','count':1,'cuisines':'73','category':'6','sort':'rating','order':'desc'} \n",
    "param={'user-key':'3754f0440b3026cde542ed69af9f499a','res_id':18429148}\n",
    "response=requests.get(basic_api+'/restaurant',headers=header,params=param) \n",
    "py=response.json()\n",
    "py\n",
    "print(py['user_rating']['aggregate_rating'])\n",
    "print(py['average_cost_for_two'])\n",
    "print(py['cuisines'])\n",
    "print(py['location']['address'])"
   ]
  },
  {
   "cell_type": "markdown",
   "id": "f06bd4c0",
   "metadata": {},
   "source": [
    "Find out whether online table reservation is supported in \"Pa Pa Ya\" restaurant or not using Zomato API."
   ]
  },
  {
   "cell_type": "code",
   "execution_count": 191,
   "id": "c585c4e4",
   "metadata": {},
   "outputs": [
    {
     "name": "stdout",
     "output_type": "stream",
     "text": [
      "yes\n"
     ]
    }
   ],
   "source": [
    "import requests\n",
    "import json\n",
    "user_key='3754f0440b3026cde542ed69af9f499a' \n",
    "basic_api='https://developers.zomato.com/api/v2.1'\n",
    "header={\"User-agent\": \"curl/7.43.0\",'Accept': 'application/json','user-key':user_key} \n",
    "params={'entity_id':104,'entity_type':'subzone','count':1,'cuisines':'73','category':'6','sort':'rating','order':'desc'} \n",
    "param={'user-key':'3754f0440b3026cde542ed69af9f499a','res_id':18429148}\n",
    "response=requests.get(basic_api+'/restaurant',headers=header,params=param) \n",
    "py=response.json()\n",
    "if(py['is_table_reservation_supported']==1):\n",
    "    print('yes')\n",
    "else:\n",
    "    print('No')"
   ]
  },
  {
   "cell_type": "markdown",
   "id": "2846ddca",
   "metadata": {},
   "source": [
    "Fetch the latest review of \"Pa Pa Ya\" restaurant using Zomato API.\n",
    "Print the name of the user, user rating and review "
   ]
  },
  {
   "cell_type": "code",
   "execution_count": 192,
   "id": "60a71b12",
   "metadata": {},
   "outputs": [
    {
     "name": "stdout",
     "output_type": "stream",
     "text": [
      "Ananya Rajput 5 \n",
      "Rohan Bhukad 3 A1 quality👌 A1 Taste  😋 A1 portion ❤️ A1 delivery 🚚 A1 packaging 📦 Order again soon................\n",
      "Mohini Foodie 3 Best Quality ➕ Best Quantity ➕ Best packaging ➕ Best prices ➕ Best Taste Kudos to team!!!!!!........\n",
      "Rahul Gandhi 3 On time delivery well packaging No compromise in quality. Quantity is great here. Highly Recommended\n",
      "Jitender 3 Good service and reliability are so fantastic. Fast ,Easy to order, Great service I enjoyed the food\n"
     ]
    }
   ],
   "source": [
    "import requests\n",
    "import json\n",
    "user_key='3754f0440b3026cde542ed69af9f499a' \n",
    "basic_api='https://developers.zomato.com/api/v2.1'\n",
    "header={\"User-agent\": \"curl/7.43.0\",'Accept': 'application/json','user-key':user_key} \n",
    "params={'entity_id':104,'entity_type':'subzone','count':1,'cuisines':'73','category':'6','sort':'rating','order':'desc'} \n",
    "param={'user-key':'3754f0440b3026cde542ed69af9f499a','res_id':18429148}\n",
    "response=requests.get(basic_api+'/reviews',headers=header,params=param) \n",
    "py=response.json()\n",
    "for i in py['user_reviews']:\n",
    "    print(i['review']['user']['name'],i['review']['rating'],i['review']['review_text'])"
   ]
  },
  {
   "cell_type": "markdown",
   "id": "02dc00f5",
   "metadata": {},
   "source": [
    "Zomato Distance Problem\n",
    "\n",
    "Distance is also a very important factor while selecting a restaurant. Suppose you are at Coding Ninjas and you want to select the restaurant which is near to you using Zomato API.\n",
    "Note down the latitude and longitude of Coding Ninjas using Google Maps\n",
    "There is a list of questions related to restaurant near me given in the next section.\n",
    "Fetch the cuisine_id of of cuisine ‘BBQ’ using Zomato API.\n"
   ]
  },
  {
   "cell_type": "code",
   "execution_count": 193,
   "id": "41ac2474",
   "metadata": {},
   "outputs": [
    {
     "name": "stdout",
     "output_type": "stream",
     "text": [
      "193\n"
     ]
    }
   ],
   "source": [
    "import requests\n",
    "import json\n",
    "h={'Accept':'application/json','user-key':'627c28c07ad221c65491bbffea6f5d54'}\n",
    "data={'user-key':'627c28c07ad221c65491bbffea6f5d54','city_id':'5'}\n",
    "response=requests.get('https://developers.zomato.com/api/v2.1/cuisines',params=data,headers=h)\n",
    "py=response.json()\n",
    "for i in py['cuisines']:\n",
    "    if(i['cuisine']['cuisine_name']=='BBQ'):\n",
    "        print(i['cuisine']['cuisine_id'])\n"
   ]
  },
  {
   "cell_type": "markdown",
   "id": "9acbd2a1",
   "metadata": {},
   "source": [
    "Fetch the list of the top 10 restaurants serving cuisine ‘BBQ’ which are nearest to Coding Ninjas."
   ]
  },
  {
   "cell_type": "code",
   "execution_count": 194,
   "id": "39da07bd",
   "metadata": {},
   "outputs": [
    {
     "name": "stdout",
     "output_type": "stream",
     "text": [
      "Tandoori Nights 0 19661940 Pitampura\n",
      "UBQ by Barbeque Nation 3.5 18889769 Netaji Subhash Place\n",
      "Barbeque Nation 4.0 9561 Netaji Subhash Place\n",
      "Jungal Raaj 0 19786712 Rohini\n",
      "Anytime Chicken 0 19520153 Shalimar Bagh\n",
      "UBQ by Barbeque Nation 3.9 19082741 Lawrence Road\n",
      "Moet's Barbeque 0 19238917 Alipur\n",
      "The Tangdi Club 0 19779002 Rohini\n",
      "BBQ Express By The Barbeque Company 3.9 19494102 Punjabi Bagh\n",
      "UBQ by Barbeque Nation 3.7 18889760 Rohini\n"
     ]
    }
   ],
   "source": [
    "import requests\n",
    "import json\n",
    "user_key='3754f0440b3026cde542ed69af9f499a' \n",
    "basic_api='https://developers.zomato.com/api/v2.1'\n",
    "header={\"User-agent\": \"curl/7.43.0\",'Accept': 'application/json','user-key':user_key} \n",
    "params={'count':10,'cuisines':193,'lat':28.697513,'lon':77.140622,'sort':'real_distance','order':'desc'} \n",
    "param={'user-key':'3754f0440b3026cde542ed69af9f499a','res_id':18429148}\n",
    "response=requests.get(basic_api+'/search',headers=header,params=params) \n",
    "py=response.json()\n",
    "py\n",
    "for i in py['restaurants'][0:10]:\n",
    "    print(i['restaurant']['name'],i['restaurant']['user_rating']['aggregate_rating'],i['restaurant']['R']['res_id'],\n",
    "         i['restaurant']['location']['locality'])\n"
   ]
  },
  {
   "cell_type": "markdown",
   "id": "546bdcf9",
   "metadata": {},
   "source": [
    "Fetch the latest review of the restaurant serving cuisine ‘BBQ’ which is most nearest to Coding ninjas"
   ]
  },
  {
   "cell_type": "code",
   "execution_count": 195,
   "id": "8c23d167",
   "metadata": {},
   "outputs": [
    {
     "name": "stdout",
     "output_type": "stream",
     "text": [
      "Shivam Rana 1 \n",
      "Nikhil 1 Everything was great about this restaurant but giving it 1 star coz it's closed for ever now n zomato hasn't updated this on there app yet...\n",
      "Palak Gupta 1 Since morning i am trying to call them and they keep rejecting my call. What kind of service is this? Phone being busy is understandable but why would you reject the call?\n",
      "Garima Arora 5 Wow place for family .. friends or anyone i have enjoyed my family dinner food is superb with quality and service and staff was superb .. amamzingly attend  and serviced.. mouth watering food barbeque snacks dinner deserts 😍♥️\n",
      "ASHISH GUPTA 1 I went there because of the reviews and the food was pathetic. Go for pirates of grill. It will be worth it\n"
     ]
    }
   ],
   "source": [
    "import requests\n",
    "import json\n",
    "user_key='3754f0440b3026cde542ed69af9f499a' \n",
    "basic_api='https://developers.zomato.com/api/v2.1'\n",
    "header={\"User-agent\": \"curl/7.43.0\",'Accept': 'application/json','user-key':user_key} \n",
    "params={'entity_id':104,'entity_type':'subzone','count':1,'cuisines':'73','category':'6','sort':'rating','order':'desc'} \n",
    "param={'user-key':'3754f0440b3026cde542ed69af9f499a','res_id':18204820 }\n",
    "response=requests.get(basic_api+'/reviews',headers=header,params=param) \n",
    "py=response.json()\n",
    "for i in py['user_reviews'][0:5]:\n",
    "    print(i['review']['user']['name'],i['review']['rating'],i['review']['review_text'])\n"
   ]
  },
  {
   "cell_type": "markdown",
   "id": "2c4e45ee",
   "metadata": {},
   "source": [
    "Experiment with the radius parameter that is present in ‘GET/search’. Fetch the list of top 10 best-restaurant present in a radius of 4 km of coding ninjas."
   ]
  },
  {
   "cell_type": "code",
   "execution_count": 196,
   "id": "cc76e778",
   "metadata": {},
   "outputs": [
    {
     "name": "stdout",
     "output_type": "stream",
     "text": [
      "Indian Accent 4.9 2004 The Lodhi, Lodhi Road\n",
      "Kuremal Mohan Lal Kulfi Wale 4.9 303642 Chawri Bazar\n",
      "The Big Chill 4.9 1614 Khan Market\n",
      "Dum-Pukht - ITC Maurya 4.9 2744 ITC Maurya, Chanakyapuri\n",
      "The Big Chill 4.9 8244 Khan Market\n",
      "The Big Chill Cafe 4.8 18919107 The Colonnade, Connaught Place\n",
      "The Big Chill 4.8 3192 DLF Avenue, Saket\n",
      "The Big Chill Cakery 4.8 18665943 Khan Market\n",
      "The Big Chill 4.8 3190 Kailash Colony\n",
      "The Big Chill 4.8 301235 DLF Promenade Mall, Vasant Kunj\n"
     ]
    }
   ],
   "source": [
    "import requests\n",
    "latitude=\"28.697522\" \n",
    "longitude=\"77.140681\" \n",
    "user_key='3754f0440b3026cde542ed69af9f499a' \n",
    "basic_api='https://developers.zomato.com/api/v2.1'\n",
    "header={\"User-agent\": \"curl/7.43.0\",'Accept': 'application/json','user-key':user_key} \n",
    "params={'lat':latitude,'lon':longitude,'radius':4000,'sort':'rating','count':10} \n",
    "response=requests.get(basic_api+'/search',headers=header,params=params) \n",
    "for i in response.json().get('restaurants'): \n",
    "    print(i.get('restaurant').get('name'),i.get('restaurant').get('user_rating').get('aggregate_rating'), i.get('restaurant').get('R').get('res_id'),i.get('restaurant').get('location').get('locality'))"
   ]
  }
 ],
 "metadata": {
  "kernelspec": {
   "display_name": "Python 3",
   "language": "python",
   "name": "python3"
  },
  "language_info": {
   "codemirror_mode": {
    "name": "ipython",
    "version": 3
   },
   "file_extension": ".py",
   "mimetype": "text/x-python",
   "name": "python",
   "nbconvert_exporter": "python",
   "pygments_lexer": "ipython3",
   "version": "3.8.8"
  }
 },
 "nbformat": 4,
 "nbformat_minor": 5
}
